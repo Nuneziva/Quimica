{
  "nbformat": 4,
  "nbformat_minor": 0,
  "metadata": {
    "colab": {
      "provenance": [],
      "include_colab_link": true
    },
    "kernelspec": {
      "name": "python3",
      "display_name": "Python 3"
    },
    "language_info": {
      "name": "python"
    },
    "widgets": {
      "application/vnd.jupyter.widget-state+json": {
        "d442f36b5d6d4bcebc69c9b3a9e14230": {
          "model_module": "faerun-notebook",
          "model_name": "SmilesDrawerModel",
          "model_module_version": "^0.1.5",
          "state": {
            "_dom_classes": [],
            "_model_module": "faerun-notebook",
            "_model_module_version": "^0.1.5",
            "_model_name": "SmilesDrawerModel",
            "_view_count": null,
            "_view_module": "faerun-notebook",
            "_view_module_version": "^0.1.5",
            "_view_name": "SmilesDrawerView",
            "background": "#1e1e1e",
            "border": true,
            "layout": "IPY_MODEL_cc98bedbf74447cd97a352a180abf5d9",
            "options": {
              "scale": 1.25
            },
            "output": "svg",
            "theme": "dark",
            "value": [
              [
                "Rxn",
                "C(C1C(C(C(C(O1)O)O)O)O)O.O=O>>C(=O)=O.O"
              ]
            ]
          }
        },
        "cc98bedbf74447cd97a352a180abf5d9": {
          "model_module": "@jupyter-widgets/base",
          "model_name": "LayoutModel",
          "model_module_version": "1.2.0",
          "state": {
            "_model_module": "@jupyter-widgets/base",
            "_model_module_version": "1.2.0",
            "_model_name": "LayoutModel",
            "_view_count": null,
            "_view_module": "@jupyter-widgets/base",
            "_view_module_version": "1.2.0",
            "_view_name": "LayoutView",
            "align_content": null,
            "align_items": null,
            "align_self": null,
            "border": null,
            "bottom": null,
            "display": null,
            "flex": null,
            "flex_flow": null,
            "grid_area": null,
            "grid_auto_columns": null,
            "grid_auto_flow": null,
            "grid_auto_rows": null,
            "grid_column": null,
            "grid_gap": null,
            "grid_row": null,
            "grid_template_areas": null,
            "grid_template_columns": null,
            "grid_template_rows": null,
            "height": null,
            "justify_content": null,
            "justify_items": null,
            "left": null,
            "margin": null,
            "max_height": null,
            "max_width": null,
            "min_height": null,
            "min_width": null,
            "object_fit": null,
            "object_position": null,
            "order": null,
            "overflow": null,
            "overflow_x": null,
            "overflow_y": null,
            "padding": null,
            "right": null,
            "top": null,
            "visibility": null,
            "width": null
          }
        }
      }
    }
  },
  "cells": [
    {
      "cell_type": "markdown",
      "metadata": {
        "id": "view-in-github",
        "colab_type": "text"
      },
      "source": [
        "<a href=\"https://colab.research.google.com/github/Nuneziva/Quimica/blob/main/PC_1_de_Qu%C3%ADmica_Nu%C3%B1ez_Cardenas_Ivan_Joaquin.ipynb\" target=\"_parent\"><img src=\"https://colab.research.google.com/assets/colab-badge.svg\" alt=\"Open In Colab\"/></a>"
      ]
    },
    {
      "cell_type": "markdown",
      "source": [
        "$$\\Large \\textit{UNMSM | Química}$$\n",
        "$$\\large \\textbf{PC Nº1 | Materia y clasificación}$$\n",
        "\n",
        "_Profesor: Jesus Alvarado Huayhuaz_\n",
        "\n",
        "_Alumno: Nuñez Cardenas Ivan Joaquin_"
      ],
      "metadata": {
        "id": "sDJAjbaQOj4x"
      }
    },
    {
      "cell_type": "markdown",
      "source": [
        "Todas las indicaciones para la presentación de la práctica son explicadas en clase y brindadas en el material de enunciado de preguntas en formato PDF."
      ],
      "metadata": {
        "id": "_DsTzWLoP7Fy"
      }
    },
    {
      "cell_type": "markdown",
      "source": [
        "## Pregunta 1: Sobre el ABC de python (4 puntos)"
      ],
      "metadata": {
        "id": "obD7c2igOD6t"
      }
    },
    {
      "cell_type": "markdown",
      "source": [
        "Durante la semana de revisión del material \"ABC de python\", reflexiona sobre qué conceptos aprendiste con claridad y cuáles consideras los más desafiantes. A continuación resuelve los siguiente ejercicios, puedes ayudarte del material en http://bit.ly/3YKICSZ."
      ],
      "metadata": {
        "id": "emt93S7dL7QH"
      }
    },
    {
      "cell_type": "code",
      "source": [
        "# Imprime la versión de python que usas y las palabras reservadas de python para esa versión.\n",
        "import sys\n",
        "import keyword\n",
        "print(sys.version)\n",
        "print(keyword.kwlist)"
      ],
      "metadata": {
        "id": "6mJvqMN0LTU8",
        "colab": {
          "base_uri": "https://localhost:8080/"
        },
        "outputId": "006e5744-6d1a-4413-96ea-b25f20e0d034"
      },
      "execution_count": null,
      "outputs": [
        {
          "output_type": "stream",
          "name": "stdout",
          "text": [
            "3.10.12 (main, Jun 11 2023, 05:26:28) [GCC 11.4.0]\n",
            "['False', 'None', 'True', 'and', 'as', 'assert', 'async', 'await', 'break', 'class', 'continue', 'def', 'del', 'elif', 'else', 'except', 'finally', 'for', 'from', 'global', 'if', 'import', 'in', 'is', 'lambda', 'nonlocal', 'not', 'or', 'pass', 'raise', 'return', 'try', 'while', 'with', 'yield']\n"
          ]
        }
      ]
    },
    {
      "cell_type": "code",
      "source": [
        "# Crea una matriz de 3x3 e imprime la suma de los elementos en su diagonal (traza).\n",
        "A=[]\n",
        "for i in range(3):\n",
        "  B=[]\n",
        "  for j in range(3):\n",
        "    valor=int(input(f\"El valor para la posicion ({i+1},{j+1}) -->  \"))\n",
        "    B.append(valor)\n",
        "  A.append(B)\n",
        "for i in range(3):\n",
        "  for j in range(3):\n",
        "    print (A[i][j],end=' ')\n",
        "  print()\n",
        "print(\"La suma de la diagonal principal es = \", (A[0][0]+A[1][1]+A[2][2]))"
      ],
      "metadata": {
        "id": "MxDzGypdLTXh",
        "colab": {
          "base_uri": "https://localhost:8080/",
          "height": 390
        },
        "outputId": "f4877f4c-e589-4f14-ab23-69d63e645726"
      },
      "execution_count": null,
      "outputs": [
        {
          "output_type": "error",
          "ename": "KeyboardInterrupt",
          "evalue": "ignored",
          "traceback": [
            "\u001b[0;31m---------------------------------------------------------------------------\u001b[0m",
            "\u001b[0;31mKeyboardInterrupt\u001b[0m                         Traceback (most recent call last)",
            "\u001b[0;32m<ipython-input-29-4c91bc965d08>\u001b[0m in \u001b[0;36m<cell line: 3>\u001b[0;34m()\u001b[0m\n\u001b[1;32m      4\u001b[0m   \u001b[0mB\u001b[0m\u001b[0;34m=\u001b[0m\u001b[0;34m[\u001b[0m\u001b[0;34m]\u001b[0m\u001b[0;34m\u001b[0m\u001b[0;34m\u001b[0m\u001b[0m\n\u001b[1;32m      5\u001b[0m   \u001b[0;32mfor\u001b[0m \u001b[0mj\u001b[0m \u001b[0;32min\u001b[0m \u001b[0mrange\u001b[0m\u001b[0;34m(\u001b[0m\u001b[0;36m3\u001b[0m\u001b[0;34m)\u001b[0m\u001b[0;34m:\u001b[0m\u001b[0;34m\u001b[0m\u001b[0;34m\u001b[0m\u001b[0m\n\u001b[0;32m----> 6\u001b[0;31m     \u001b[0mvalor\u001b[0m\u001b[0;34m=\u001b[0m\u001b[0mint\u001b[0m\u001b[0;34m(\u001b[0m\u001b[0minput\u001b[0m\u001b[0;34m(\u001b[0m\u001b[0;34mf\"El valor para la posicion ({i+1},{j+1}) -->  \"\u001b[0m\u001b[0;34m)\u001b[0m\u001b[0;34m)\u001b[0m\u001b[0;34m\u001b[0m\u001b[0;34m\u001b[0m\u001b[0m\n\u001b[0m\u001b[1;32m      7\u001b[0m     \u001b[0mB\u001b[0m\u001b[0;34m.\u001b[0m\u001b[0mappend\u001b[0m\u001b[0;34m(\u001b[0m\u001b[0mvalor\u001b[0m\u001b[0;34m)\u001b[0m\u001b[0;34m\u001b[0m\u001b[0;34m\u001b[0m\u001b[0m\n\u001b[1;32m      8\u001b[0m   \u001b[0mA\u001b[0m\u001b[0;34m.\u001b[0m\u001b[0mappend\u001b[0m\u001b[0;34m(\u001b[0m\u001b[0mB\u001b[0m\u001b[0;34m)\u001b[0m\u001b[0;34m\u001b[0m\u001b[0;34m\u001b[0m\u001b[0m\n",
            "\u001b[0;32m/usr/local/lib/python3.10/dist-packages/ipykernel/kernelbase.py\u001b[0m in \u001b[0;36mraw_input\u001b[0;34m(self, prompt)\u001b[0m\n\u001b[1;32m    849\u001b[0m                 \u001b[0;34m\"raw_input was called, but this frontend does not support input requests.\"\u001b[0m\u001b[0;34m\u001b[0m\u001b[0;34m\u001b[0m\u001b[0m\n\u001b[1;32m    850\u001b[0m             )\n\u001b[0;32m--> 851\u001b[0;31m         return self._input_request(str(prompt),\n\u001b[0m\u001b[1;32m    852\u001b[0m             \u001b[0mself\u001b[0m\u001b[0;34m.\u001b[0m\u001b[0m_parent_ident\u001b[0m\u001b[0;34m,\u001b[0m\u001b[0;34m\u001b[0m\u001b[0;34m\u001b[0m\u001b[0m\n\u001b[1;32m    853\u001b[0m             \u001b[0mself\u001b[0m\u001b[0;34m.\u001b[0m\u001b[0m_parent_header\u001b[0m\u001b[0;34m,\u001b[0m\u001b[0;34m\u001b[0m\u001b[0;34m\u001b[0m\u001b[0m\n",
            "\u001b[0;32m/usr/local/lib/python3.10/dist-packages/ipykernel/kernelbase.py\u001b[0m in \u001b[0;36m_input_request\u001b[0;34m(self, prompt, ident, parent, password)\u001b[0m\n\u001b[1;32m    893\u001b[0m             \u001b[0;32mexcept\u001b[0m \u001b[0mKeyboardInterrupt\u001b[0m\u001b[0;34m:\u001b[0m\u001b[0;34m\u001b[0m\u001b[0;34m\u001b[0m\u001b[0m\n\u001b[1;32m    894\u001b[0m                 \u001b[0;31m# re-raise KeyboardInterrupt, to truncate traceback\u001b[0m\u001b[0;34m\u001b[0m\u001b[0;34m\u001b[0m\u001b[0m\n\u001b[0;32m--> 895\u001b[0;31m                 \u001b[0;32mraise\u001b[0m \u001b[0mKeyboardInterrupt\u001b[0m\u001b[0;34m(\u001b[0m\u001b[0;34m\"Interrupted by user\"\u001b[0m\u001b[0;34m)\u001b[0m \u001b[0;32mfrom\u001b[0m \u001b[0;32mNone\u001b[0m\u001b[0;34m\u001b[0m\u001b[0;34m\u001b[0m\u001b[0m\n\u001b[0m\u001b[1;32m    896\u001b[0m             \u001b[0;32mexcept\u001b[0m \u001b[0mException\u001b[0m \u001b[0;32mas\u001b[0m \u001b[0me\u001b[0m\u001b[0;34m:\u001b[0m\u001b[0;34m\u001b[0m\u001b[0;34m\u001b[0m\u001b[0m\n\u001b[1;32m    897\u001b[0m                 \u001b[0mself\u001b[0m\u001b[0;34m.\u001b[0m\u001b[0mlog\u001b[0m\u001b[0;34m.\u001b[0m\u001b[0mwarning\u001b[0m\u001b[0;34m(\u001b[0m\u001b[0;34m\"Invalid Message:\"\u001b[0m\u001b[0;34m,\u001b[0m \u001b[0mexc_info\u001b[0m\u001b[0;34m=\u001b[0m\u001b[0;32mTrue\u001b[0m\u001b[0;34m)\u001b[0m\u001b[0;34m\u001b[0m\u001b[0;34m\u001b[0m\u001b[0m\n",
            "\u001b[0;31mKeyboardInterrupt\u001b[0m: Interrupted by user"
          ]
        }
      ]
    },
    {
      "cell_type": "code",
      "source": [
        "# Guarda como variable la masa atómica de los elementos C, H y O, e imprime la masa molecular del etanol.\n",
        "C=12\n",
        "H=1\n",
        "O=16\n",
        "print(f\"La masa molecular del etanol('C2H6O') es = {2*C + 6*H + O}\")"
      ],
      "metadata": {
        "id": "MyhNX7JmLTSe",
        "colab": {
          "base_uri": "https://localhost:8080/"
        },
        "outputId": "d82032bd-b206-4813-d9a2-dbcbeeb1feda"
      },
      "execution_count": null,
      "outputs": [
        {
          "output_type": "stream",
          "name": "stdout",
          "text": [
            "La masa molecular del etanol('C2H6O') es = 46\n"
          ]
        }
      ]
    },
    {
      "cell_type": "code",
      "source": [
        "# Busca la temperatura de fusión en Celsius de 5 metales y guárdalos en una lista. Imprime las temperaturas en Kelvin\n",
        "A={\"Hierro\":1538,\"Oro\":1064,\"Cobre\":1085,\"Cobalto\":1495,\"Magnesio\":650}\n",
        "for a,b in A.items():\n",
        "  print(f\"La temperatura de fusion en Kelvin de {a} es {b+273} K\")"
      ],
      "metadata": {
        "id": "NCOnJ0FwgLLc",
        "colab": {
          "base_uri": "https://localhost:8080/"
        },
        "outputId": "53f93e19-4771-469c-9d9b-748b3610d3f9"
      },
      "execution_count": null,
      "outputs": [
        {
          "output_type": "stream",
          "name": "stdout",
          "text": [
            "La temperatura en Kelvin de Hierro es 1811 K\n",
            "La temperatura en Kelvin de Oro es 1337 K\n",
            "La temperatura en Kelvin de Cobre es 1358 K\n",
            "La temperatura en Kelvin de Cobalto es 1768 K\n",
            "La temperatura en Kelvin de Magnesio es 923 K\n"
          ]
        }
      ]
    },
    {
      "cell_type": "markdown",
      "source": [
        "## Pregunta 2: Operaciones (4 puntos)"
      ],
      "metadata": {
        "id": "epzOadagLfPi"
      }
    },
    {
      "cell_type": "markdown",
      "source": [
        "Escribe un programa que lea repetidamente elementos químicos en español hasta que el usuario introduzca “fin”. Una vez se haya introducido “fin”, muestra por pantalla (o sea imprime) el total de elementos ingresados. Si el usuario introduce cualquier otra cosa que no sea un elemento químico, detecta su fallo usando try y except, muestra un mensaje de error y pasa al siguiente elemento."
      ],
      "metadata": {
        "id": "MbAEOGPsjOWZ"
      }
    },
    {
      "cell_type": "code",
      "source": [
        "from ast import Break\n",
        "Lista={\"Cu\":\"Cobre\",\"Au\":\"Oro\",\"Fe\":\"Hierro\",\"Hg\":\"Mercurio\",\"Ne\":\"Neon\",\"Cl\":\"Cloro\",\"H\":\"Hidrogeno\",\"He\":\"Helio\",\"Ar\":\"Argón\"}\n",
        "Count=0\n",
        "for a,b in Lista.items():\n",
        "  T=False\n",
        "  while True:\n",
        "      try:\n",
        "        C=input(f\"El elemento {a} es-->  \")\n",
        "        if C==b:\n",
        "          print(\"Correcto!!!!\")\n",
        "        else:\n",
        "          raise ValueError(\"El nombre del elemento no es el correcto\")\n",
        "      except ValueError as error:\n",
        "        print(f\"{error}\")\n",
        "      Count+=1\n",
        "      d=input(\"Desea parar?(fin)--->   \")\n",
        "      if d.lower()==\"fin\":\n",
        "        T=True\n",
        "      break\n",
        "  if T:\n",
        "    break\n",
        "print(f\"La cantidad de elementos ingresados es --->{Count}\")"
      ],
      "metadata": {
        "id": "gJGX0p5QLetj",
        "colab": {
          "base_uri": "https://localhost:8080/"
        },
        "outputId": "b5e03665-706c-440b-d0ea-c265760c997e"
      },
      "execution_count": null,
      "outputs": [
        {
          "output_type": "stream",
          "name": "stdout",
          "text": [
            "El elemento Cu es-->  Cobre\n",
            "Correcto!!!!\n",
            "Desea parar?(fin)--->   fin\n",
            "La cantidad de elementos ingresados es --->1\n"
          ]
        }
      ]
    },
    {
      "cell_type": "markdown",
      "source": [
        "# Pregunta 3: Conservación de la masa (4 puntos)"
      ],
      "metadata": {
        "id": "8gxSHpD3LZsh"
      }
    },
    {
      "cell_type": "markdown",
      "source": [
        "### Código necesario para generar la imagen"
      ],
      "metadata": {
        "id": "mMV9c3hDl7KL"
      }
    },
    {
      "cell_type": "code",
      "source": [
        "!pip install faerun-notebook==0.1.5b0\n",
        "\n",
        "import ipywidgets as widgets\n",
        "from faerun_notebook import SmilesDrawer\n",
        "from google.colab import output\n",
        "output.enable_custom_widget_manager()"
      ],
      "metadata": {
        "id": "JgF8Ohtbky65"
      },
      "execution_count": null,
      "outputs": []
    },
    {
      "cell_type": "markdown",
      "source": [
        "### Reacción química"
      ],
      "metadata": {
        "id": "5sLC10D_oSrV"
      }
    },
    {
      "cell_type": "markdown",
      "source": [
        "Demuestra cómo se cumple la conservación de la masa en la siguiente reacción química. Sugerencia: hacer un balance estequiométrico y luego emplear la masa molecular de reactivos y productos."
      ],
      "metadata": {
        "id": "OVRhAzaVmD86"
      }
    },
    {
      "cell_type": "code",
      "source": [
        "SmilesDrawer(value=[(\"Rxn\", \"C(C1C(C(C(C(O1)O)O)O)O)O.O=O>>C(=O)=O.O\")], theme='dark', background=\"#1e1e1e\", options={'scale': 1.25})"
      ],
      "metadata": {
        "id": "z6_l6pYZc-aT",
        "outputId": "507a87e9-5d73-4c3d-e8da-6704c1213366",
        "colab": {
          "base_uri": "https://localhost:8080/",
          "height": 288,
          "referenced_widgets": [
            "d442f36b5d6d4bcebc69c9b3a9e14230",
            "cc98bedbf74447cd97a352a180abf5d9"
          ]
        }
      },
      "execution_count": null,
      "outputs": [
        {
          "output_type": "display_data",
          "data": {
            "text/plain": [
              "SmilesDrawer(background='#1e1e1e', options={'scale': 1.25}, theme='dark', value=[('Rxn', 'C(C1C(C(C(C(O1)O)O)O…"
            ],
            "application/vnd.jupyter.widget-view+json": {
              "version_major": 2,
              "version_minor": 0,
              "model_id": "d442f36b5d6d4bcebc69c9b3a9e14230"
            }
          },
          "metadata": {
            "application/vnd.jupyter.widget-view+json": {
              "colab": {
                "custom_widget_manager": {
                  "url": "https://ssl.gstatic.com/colaboratory-static/widgets/colab-cdn-widget-manager/b3e629b1971e1542/manager.min.js"
                }
              }
            }
          }
        }
      ]
    },
    {
      "cell_type": "code",
      "source": [
        "#Demostración\n",
        "#!pip install chempy\n",
        "from chempy import balance_stoichiometry,Substance\n",
        "from pprint import pprint\n",
        "reac,prod=balance_stoichiometry({\"C6H12O6\",\"O2\"},{\"CO2\",\"H2O\"})\n",
        "print(\"Los coeficientes de los reactantes y productos son\")\n",
        "pprint(dict(reac))\n",
        "pprint(dict(prod))\n",
        "print(\"La conservación de la masa indica que la masa de los reactantes debe ser igual a la masa de los productos\")\n",
        "A = Substance.from_formula('C6H12O6')\n",
        "B = Substance.from_formula('O2')\n",
        "C = Substance.from_formula('CO2')\n",
        "D = Substance.from_formula('H2O')\n",
        "Glucosa=A.mass\n",
        "Oxigeno=6*(B.mass)\n",
        "Dioxido=6*(C.mass)\n",
        "Agua=6*(D.mass)\n",
        "if Glucosa + Oxigeno == Dioxido + Agua:\n",
        "  print(\"Conservacion de la masa demostrada\")\n",
        "else:\n",
        "  print(\"No se ha podido demostrar \")\n",
        "\n"
      ],
      "metadata": {
        "colab": {
          "base_uri": "https://localhost:8080/"
        },
        "id": "TaKZ7CE2dqR1",
        "outputId": "bd2de209-27f9-46a8-8c3a-65a87aa4c642"
      },
      "execution_count": 41,
      "outputs": [
        {
          "output_type": "stream",
          "name": "stdout",
          "text": [
            "Los coeficientes de los reactantes y productos son\n",
            "{'C6H12O6': 1, 'O2': 6}\n",
            "{'CO2': 6, 'H2O': 6}\n",
            "La conservación de la masa indica que la masa de los reactantes debe ser igual a la masa de los productos\n",
            "Conservacion de la masa demostrada\n"
          ]
        }
      ]
    },
    {
      "cell_type": "markdown",
      "source": [
        "## Pregunta 4: Notación científica (4 puntos)"
      ],
      "metadata": {
        "id": "Rh-nAUiKhJNB"
      }
    },
    {
      "cell_type": "markdown",
      "source": [
        "Imprime las siguientes operaciones según la notación científica:\n",
        "\n",
        "(1) $1.321 \\times 10^{-4} + 8.5 \\times 10^{-2}$\n",
        "\n",
        "(2) $1.71 \\times 10^{3} - 2.01 \\times 10^{2}\\$\n",
        "\n",
        "(3) $(7.4 \\times 10^5)(7.2 \\times 10^4)$\n",
        "\n",
        "(4) $(7.4 \\times 10^5)/(7.2 \\times 10^4)$"
      ],
      "metadata": {
        "id": "NIkI45Xdqqnt"
      }
    },
    {
      "cell_type": "code",
      "source": [
        "num1=(1.321*(10**-4)+ 8.5*(10**-2))\n",
        "num2=(1.71*(10**-3)- 2.01*(10**2))\n",
        "num3=((7.4*(10**5))*(7.2*(10**4)))\n",
        "num4=((7.4*(10**5))/(7.2*(10**4)))\n",
        "Lista={1:num1,2:num2,3:num3,4:num4}\n",
        "for a,b in Lista.items():\n",
        "    print(f\"El numero {a} en su notación cientifica es {format(b,'.1e')}\")"
      ],
      "metadata": {
        "colab": {
          "base_uri": "https://localhost:8080/"
        },
        "id": "1DFlriPN_Hvc",
        "outputId": "249bc203-e551-4ea2-d785-c65c95565e3c"
      },
      "execution_count": null,
      "outputs": [
        {
          "output_type": "stream",
          "name": "stdout",
          "text": [
            "El numero 1 en su notación cientifica es 8.5e-02\n",
            "El numero 2 en su notación cientifica es -2.0e+02\n",
            "El numero 3 en su notación cientifica es 5.3e+10\n",
            "El numero 4 en su notación cientifica es 1.0e+01\n"
          ]
        }
      ]
    },
    {
      "cell_type": "markdown",
      "source": [
        "## Pregunta 5: Método científico (4 puntos)"
      ],
      "metadata": {
        "id": "CuzCcXJghR14"
      }
    },
    {
      "cell_type": "markdown",
      "source": [
        "Artículo: https://bit.ly/3surZ1W\n",
        "Leer el siguiente artículo y explica cómo es aplicado el método científico. Emplea como máximo 300 palabras."
      ],
      "metadata": {
        "id": "WngRSR-Rhmx1"
      }
    },
    {
      "cell_type": "markdown",
      "source": [
        "En este caso los científicos investigaron como el cristal LK-99 era superconductor pero de una manera muy extraña. En primer lugar, empezaron observando el comportamiendo del cristal y anotando sus diversas propiedades se dieron cuenta que este material tenia la posibilidad de ser superconductor. Midieron su resistividad y no encontraron ningun signo de superconductividad. Por lo que el equipo coreano de científicos todavía no podía explicar esta anomalía, siguieron realizando mas experimentos y encontraron que la anomalía se debía a la presencia de impurezas de Cu2S en el cristal LK-99.\n",
        "Luego de el descubrimiento de la causa de la anomalía en el cristal LK-99, los científicos publicaron sus hallazgos en airXiv, una plataforma de artículos científicos online y en los periódicos. Esta parte es importante en el metodo científico ya que esto asegura que los resultados sean confiables y ayude al avance de el conocimiento científico.\n",
        "En conclusión el metodo científico es muy importante al momento de querer comprobar un hecho en el mundo que no tenga un antecedente o una investigación dedicada al respecto. Al observar,analizar,experimentar,comunicar, estas ayudando a la ciencia y al mundo.\n",
        "\n",
        "\n",
        "\n",
        "\n"
      ],
      "metadata": {
        "id": "L6ruZ9lVID5Q"
      }
    }
  ]
}